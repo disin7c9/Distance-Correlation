{
 "cells": [
  {
   "cell_type": "code",
   "execution_count": 1,
   "id": "4a4859e3",
   "metadata": {},
   "outputs": [],
   "source": [
    "import numpy as np\n",
    "import matplotlib.pyplot as plt"
   ]
  },
  {
   "cell_type": "code",
   "execution_count": 2,
   "id": "1eb66c24",
   "metadata": {},
   "outputs": [],
   "source": [
    "n = 4"
   ]
  },
  {
   "cell_type": "code",
   "execution_count": 3,
   "id": "9f4b4e89",
   "metadata": {},
   "outputs": [],
   "source": [
    "x = np.random.randn(n)\n",
    "y = np.random.randn(n)"
   ]
  },
  {
   "cell_type": "code",
   "execution_count": 4,
   "id": "2a7b71df",
   "metadata": {},
   "outputs": [
    {
     "data": {
      "text/plain": [
       "(4,)"
      ]
     },
     "execution_count": 4,
     "metadata": {},
     "output_type": "execute_result"
    }
   ],
   "source": [
    "x.shape"
   ]
  },
  {
   "cell_type": "code",
   "execution_count": 5,
   "id": "f57420e5",
   "metadata": {},
   "outputs": [
    {
     "data": {
      "text/plain": [
       "array([ 1.58764538, -0.10733014,  0.18779783, -1.3075252 ])"
      ]
     },
     "execution_count": 5,
     "metadata": {},
     "output_type": "execute_result"
    }
   ],
   "source": [
    "x"
   ]
  },
  {
   "cell_type": "markdown",
   "id": "6532a050",
   "metadata": {},
   "source": [
    "## how to make A_ij = abs(x_i - x_j)"
   ]
  },
  {
   "cell_type": "markdown",
   "id": "3ad79de6",
   "metadata": {},
   "source": [
    "1. naive for loop"
   ]
  },
  {
   "cell_type": "code",
   "execution_count": 6,
   "id": "35323add",
   "metadata": {},
   "outputs": [
    {
     "data": {
      "text/plain": [
       "array([[0.        , 1.69497551, 1.39984754, 2.89517057],\n",
       "       [1.69497551, 0.        , 0.29512797, 1.20019506],\n",
       "       [1.39984754, 0.29512797, 0.        , 1.49532303],\n",
       "       [2.89517057, 1.20019506, 1.49532303, 0.        ]])"
      ]
     },
     "execution_count": 6,
     "metadata": {},
     "output_type": "execute_result"
    }
   ],
   "source": [
    "A = np.empty(shape=(n, n))\n",
    "for i in range(n):\n",
    "    for j in range(n):\n",
    "        A[i, j] = abs(x[i] - x[j])\n",
    "A"
   ]
  },
  {
   "cell_type": "markdown",
   "id": "e8397269",
   "metadata": {},
   "source": [
    "2. numpy ogrid"
   ]
  },
  {
   "cell_type": "code",
   "execution_count": 7,
   "id": "3d9e184f",
   "metadata": {},
   "outputs": [
    {
     "data": {
      "text/plain": [
       "[array([[0],\n",
       "        [1],\n",
       "        [2],\n",
       "        [3]]),\n",
       " array([[0, 1, 2, 3]])]"
      ]
     },
     "execution_count": 7,
     "metadata": {},
     "output_type": "execute_result"
    }
   ],
   "source": [
    "np.ogrid[:n, :n]"
   ]
  },
  {
   "cell_type": "code",
   "execution_count": 8,
   "id": "6df27af9",
   "metadata": {},
   "outputs": [
    {
     "data": {
      "text/plain": [
       "(array([[ 1.58764538],\n",
       "        [-0.10733014],\n",
       "        [ 0.18779783],\n",
       "        [-1.3075252 ]]),\n",
       " array([[ 1.58764538, -0.10733014,  0.18779783, -1.3075252 ]]))"
      ]
     },
     "execution_count": 8,
     "metadata": {},
     "output_type": "execute_result"
    }
   ],
   "source": [
    "i, j = np.ogrid[:n, :n]\n",
    "x_i, x_j = x[i], x[j]\n",
    "x_i, x_j"
   ]
  },
  {
   "cell_type": "code",
   "execution_count": 9,
   "id": "bc3db4a1",
   "metadata": {},
   "outputs": [
    {
     "data": {
      "text/plain": [
       "array([[0.        , 1.69497551, 1.39984754, 2.89517057],\n",
       "       [1.69497551, 0.        , 0.29512797, 1.20019506],\n",
       "       [1.39984754, 0.29512797, 0.        , 1.49532303],\n",
       "       [2.89517057, 1.20019506, 1.49532303, 0.        ]])"
      ]
     },
     "execution_count": 9,
     "metadata": {},
     "output_type": "execute_result"
    }
   ],
   "source": [
    "A = np.empty(shape=(n, n))\n",
    "A = abs(x_i-x_j)\n",
    "A"
   ]
  },
  {
   "cell_type": "markdown",
   "id": "4a2bb127",
   "metadata": {},
   "source": [
    "3. numpy subtract.outer (numpy.ufunc.outer)"
   ]
  },
  {
   "cell_type": "code",
   "execution_count": 10,
   "id": "2f5a0285",
   "metadata": {},
   "outputs": [
    {
     "data": {
      "text/plain": [
       "array([[0.        , 1.69497551, 1.39984754, 2.89517057],\n",
       "       [1.69497551, 0.        , 0.29512797, 1.20019506],\n",
       "       [1.39984754, 0.29512797, 0.        , 1.49532303],\n",
       "       [2.89517057, 1.20019506, 1.49532303, 0.        ]])"
      ]
     },
     "execution_count": 10,
     "metadata": {},
     "output_type": "execute_result"
    }
   ],
   "source": [
    "A = abs(np.subtract.outer(x, x))\n",
    "A"
   ]
  },
  {
   "cell_type": "markdown",
   "id": "94868682",
   "metadata": {},
   "source": [
    "## how to make M = 1*1_T/n"
   ]
  },
  {
   "cell_type": "code",
   "execution_count": 11,
   "id": "4a6dcf69",
   "metadata": {},
   "outputs": [
    {
     "data": {
      "text/plain": [
       "array([[0.25, 0.25, 0.25, 0.25],\n",
       "       [0.25, 0.25, 0.25, 0.25],\n",
       "       [0.25, 0.25, 0.25, 0.25],\n",
       "       [0.25, 0.25, 0.25, 0.25]])"
      ]
     },
     "execution_count": 11,
     "metadata": {},
     "output_type": "execute_result"
    }
   ],
   "source": [
    "M = np.dot(np.ones((n, 1)), np.ones((1, n)))/n\n",
    "M"
   ]
  },
  {
   "cell_type": "code",
   "execution_count": 12,
   "id": "fdd6d1a0",
   "metadata": {},
   "outputs": [
    {
     "data": {
      "text/plain": [
       "array([[0.25, 0.25, 0.25, 0.25],\n",
       "       [0.25, 0.25, 0.25, 0.25],\n",
       "       [0.25, 0.25, 0.25, 0.25],\n",
       "       [0.25, 0.25, 0.25, 0.25]])"
      ]
     },
     "execution_count": 12,
     "metadata": {},
     "output_type": "execute_result"
    }
   ],
   "source": [
    "M = np.outer(np.ones(n), np.ones(n))/n\n",
    "M"
   ]
  },
  {
   "cell_type": "code",
   "execution_count": 13,
   "id": "11667175",
   "metadata": {},
   "outputs": [
    {
     "data": {
      "text/plain": [
       "array([[0.25, 0.25, 0.25, 0.25],\n",
       "       [0.25, 0.25, 0.25, 0.25],\n",
       "       [0.25, 0.25, 0.25, 0.25],\n",
       "       [0.25, 0.25, 0.25, 0.25]])"
      ]
     },
     "execution_count": 13,
     "metadata": {},
     "output_type": "execute_result"
    }
   ],
   "source": [
    "M = np.empty(shape=(n, n))\n",
    "M.fill(1/n)\n",
    "M"
   ]
  },
  {
   "cell_type": "code",
   "execution_count": 14,
   "id": "6358c35c",
   "metadata": {},
   "outputs": [
    {
     "data": {
      "text/plain": [
       "array([[0.25, 0.25, 0.25, 0.25],\n",
       "       [0.25, 0.25, 0.25, 0.25],\n",
       "       [0.25, 0.25, 0.25, 0.25],\n",
       "       [0.25, 0.25, 0.25, 0.25]])"
      ]
     },
     "execution_count": 14,
     "metadata": {},
     "output_type": "execute_result"
    }
   ],
   "source": [
    "M = np.full(shape=(n, n), fill_value=1/n)\n",
    "M"
   ]
  },
  {
   "cell_type": "markdown",
   "id": "3fbb00b3",
   "metadata": {},
   "source": [
    "## calculate mat_tilda"
   ]
  },
  {
   "cell_type": "code",
   "execution_count": 15,
   "id": "e4e2c52b",
   "metadata": {},
   "outputs": [],
   "source": [
    "A = abs(np.subtract.outer(x, x))\n",
    "B = abs(np.subtract.outer(y, y))"
   ]
  },
  {
   "cell_type": "code",
   "execution_count": 16,
   "id": "609c6aa1",
   "metadata": {},
   "outputs": [],
   "source": [
    "I_minus_M = np.eye(n) - M\n",
    "A_tilda = np.matmul(np.matmul(I_minus_M, A), I_minus_M)\n",
    "B_tilda = np.matmul(np.matmul(I_minus_M, B), I_minus_M)"
   ]
  },
  {
   "cell_type": "markdown",
   "id": "e71a4500",
   "metadata": {},
   "source": [
    "## calculate distance covariance"
   ]
  },
  {
   "cell_type": "markdown",
   "id": "f80c4a66",
   "metadata": {},
   "source": [
    "1"
   ]
  },
  {
   "cell_type": "code",
   "execution_count": 17,
   "id": "31f00ed2",
   "metadata": {},
   "outputs": [
    {
     "data": {
      "text/plain": [
       "(array([[-1.87241685,  0.52248243,  0.22735446,  1.12257996],\n",
       "        [ 0.52248243, -0.47256931, -0.17744134,  0.12752822],\n",
       "        [ 0.22735446, -0.17744134, -0.47256931,  0.42265619],\n",
       "        [ 1.12257996,  0.12752822,  0.42265619, -1.67276437]]),\n",
       " array([[-0.40104638, -0.34074365,  0.3378325 ,  0.40395753],\n",
       "        [-0.34074365, -0.52165185,  0.39813524,  0.46426026],\n",
       "        [ 0.3378325 ,  0.39813524, -0.40104638, -0.33492136],\n",
       "        [ 0.40395753,  0.46426026, -0.33492136, -0.53329643]]))"
      ]
     },
     "execution_count": 17,
     "metadata": {},
     "output_type": "execute_result"
    }
   ],
   "source": [
    "i, j = np.ogrid[:n, :n]\n",
    "A_tilda_ij, B_tilda_ij = A_tilda[i,j], B_tilda[i,j]\n",
    "A_tilda_ij, B_tilda_ij"
   ]
  },
  {
   "cell_type": "code",
   "execution_count": 18,
   "id": "c1bd78da",
   "metadata": {},
   "outputs": [
    {
     "data": {
      "text/plain": [
       "(0.1548469881917568, 0.6483269194137921, 0.16484266987722077)"
      ]
     },
     "execution_count": 18,
     "metadata": {},
     "output_type": "execute_result"
    }
   ],
   "source": [
    "dcov_sq_xy = np.sum((A_tilda_ij * B_tilda_ij).flatten()) / (n**2)\n",
    "dvar_sq_x = np.sum((A_tilda_ij * A_tilda_ij).flatten()) / (n**2)\n",
    "dvar_sq_y = np.sum((B_tilda_ij * B_tilda_ij).flatten()) / (n**2)\n",
    "dcov_sq_xy, dvar_sq_x, dvar_sq_y"
   ]
  },
  {
   "cell_type": "markdown",
   "id": "5ecfd7e6",
   "metadata": {},
   "source": [
    "2"
   ]
  },
  {
   "cell_type": "code",
   "execution_count": 19,
   "id": "33ce9fb7",
   "metadata": {},
   "outputs": [
    {
     "data": {
      "text/plain": [
       "(0.1548469881917568, 0.6483269194137922, 0.16484266987722074)"
      ]
     },
     "execution_count": 19,
     "metadata": {},
     "output_type": "execute_result"
    }
   ],
   "source": [
    "flat_A_tilda = A_tilda.flatten()\n",
    "flat_B_tilda = B_tilda.flatten()\n",
    "\n",
    "dcov_sq_xy = np.dot(flat_A_tilda, flat_B_tilda) / (n**2)\n",
    "dvar_sq_x = np.dot(flat_A_tilda, flat_A_tilda) / (n**2)\n",
    "dvar_sq_y = np.dot(flat_B_tilda, flat_B_tilda) / (n**2)\n",
    "dcov_sq_xy, dvar_sq_x, dvar_sq_y"
   ]
  },
  {
   "cell_type": "markdown",
   "id": "faa32e78",
   "metadata": {},
   "source": [
    "## calculate distance correlation"
   ]
  },
  {
   "cell_type": "code",
   "execution_count": 20,
   "id": "6930ddc0",
   "metadata": {},
   "outputs": [
    {
     "data": {
      "text/plain": [
       "0.6882329445316975"
      ]
     },
     "execution_count": 20,
     "metadata": {},
     "output_type": "execute_result"
    }
   ],
   "source": [
    "dcor = np.sqrt( dcov_sq_xy / (np.sqrt(dvar_sq_x)*np.sqrt(dvar_sq_y)) )\n",
    "dcor"
   ]
  },
  {
   "cell_type": "markdown",
   "id": "d04abd09",
   "metadata": {},
   "source": [
    "## Now, let's assemble"
   ]
  },
  {
   "cell_type": "markdown",
   "id": "7223a100",
   "metadata": {},
   "source": [
    "input: array(shape: (batch, 2)), output: distance correlation"
   ]
  },
  {
   "cell_type": "code",
   "execution_count": 21,
   "id": "e79cd7a0",
   "metadata": {},
   "outputs": [],
   "source": [
    "def dcor(array):\n",
    "    n = len(array)\n",
    "    x = array[:, 0]\n",
    "    y = array[:, 1]\n",
    "    \n",
    "    A = np.abs(np.subtract.outer(x, x))\n",
    "    B = np.abs(np.subtract.outer(y, y))\n",
    "    M = np.full(shape=(n, n), fill_value=1/n)\n",
    "    \n",
    "    I_minus_M = np.subtract(np.eye(n), M)\n",
    "    A_tilda = np.matmul(np.matmul(I_minus_M, A), I_minus_M)\n",
    "    B_tilda = np.matmul(np.matmul(I_minus_M, B), I_minus_M)\n",
    "    \n",
    "    # calculate covariance. omit n**2 division\n",
    "    flat_A_tilda, flat_B_tilda = A_tilda.flatten(), B_tilda.flatten()\n",
    "    dcov_sq_xy = np.dot(flat_A_tilda, flat_B_tilda)\n",
    "    dvar_sq_x = np.dot(flat_A_tilda, flat_A_tilda)\n",
    "    dvar_sq_y = np.dot(flat_B_tilda, flat_B_tilda)\n",
    "    \n",
    "    # calculate distance correlation\n",
    "    dcor = np.sqrt( dcov_sq_xy / (np.sqrt(dvar_sq_x)*np.sqrt(dvar_sq_y)) )\n",
    "    \n",
    "    return np.round(dcor, 3)"
   ]
  },
  {
   "cell_type": "markdown",
   "id": "ff6a6f96",
   "metadata": {},
   "source": [
    "## Test"
   ]
  },
  {
   "cell_type": "markdown",
   "id": "ddace6fc",
   "metadata": {},
   "source": [
    "Pearson's r"
   ]
  },
  {
   "cell_type": "code",
   "execution_count": 22,
   "id": "2c5d4a76",
   "metadata": {},
   "outputs": [],
   "source": [
    "def cor(array):\n",
    "    x = array[:, 0]\n",
    "    y = array[:, 1]\n",
    "    \n",
    "    x_bar = x.mean()\n",
    "    y_bar = y.mean()\n",
    "    \n",
    "    var_x = np.dot((x - x_bar), (x - x_bar))\n",
    "    var_y = np.dot((y - y_bar), (y - y_bar))\n",
    "    cov_xy = np.dot((x - x_bar), (y - y_bar))\n",
    "\n",
    "    cor = cov_xy / (np.sqrt(var_x) * np.sqrt(var_y))\n",
    "    \n",
    "    return np.round(cor, 3)"
   ]
  },
  {
   "cell_type": "markdown",
   "id": "f48d8fa3",
   "metadata": {},
   "source": [
    "samples"
   ]
  },
  {
   "cell_type": "code",
   "execution_count": 23,
   "id": "3b61f4ce",
   "metadata": {},
   "outputs": [],
   "source": [
    "n = 101\n",
    "x = np.linspace(-1, 1, n)[:, np.newaxis]\n",
    "\n",
    "a, b, exp1, exp2 = np.random.randint(1, 4), np.random.randint(1, 4), np.random.randint(1, 3), np.random.randint(1, 3)\n",
    "y1 = ((-1)**exp1)*a*x + ((-1)**exp2)*b\n",
    "y2 = ((-1)**exp1)*a*x + ((-1)**exp2)*b + np.random.randn(n)[:, np.newaxis]/np.e\n",
    "y3 = x**2\n",
    "y4 = x**3\n",
    "y5 = x**4 - x**2\n",
    "y8 = np.cos(2*np.pi*x)\n",
    "\n",
    "# perfect linear\n",
    "data1 = np.concatenate((x, y1), axis=1)\n",
    "\n",
    "# noisy linear\n",
    "data2 = np.concatenate((x, y2), axis=1)\n",
    "\n",
    "# perfect quadratic\n",
    "data3 = np.concatenate((x, y3), axis=1)\n",
    "\n",
    "# perfect cubic\n",
    "data4 = np.concatenate((x, y4), axis=1)\n",
    "\n",
    "# quartic\n",
    "data5 = np.concatenate((x, y5), axis=1)\n",
    "\n",
    "# circle\n",
    "theta = np.linspace(0, 2*np.pi*(1-1/(n-1)), n-1)[:, np.newaxis]\n",
    "x6, y6 = 1 * np.cos(theta), 1 * np.sin(theta)\n",
    "data6 = np.concatenate((x6, y6), axis=1)\n",
    "\n",
    "# independent, standard normal distribution\n",
    "x_ind = np.random.randn(n, 1)\n",
    "y_ind = np.random.randn(n, 1)\n",
    "data7 = np.concatenate((x_ind, y_ind), axis=1)\n",
    "\n",
    "# cosine\n",
    "data8 = np.concatenate((x, y8), axis=1)"
   ]
  },
  {
   "cell_type": "code",
   "execution_count": 24,
   "id": "195c43bb",
   "metadata": {},
   "outputs": [
    {
     "data": {
      "image/png": "[encoded data removed]",
      "text/plain": [
       "<Figure size 640x480 with 1 Axes>"
      ]
     },
     "metadata": {},
     "output_type": "display_data"
    },
    {
     "name": "stdout",
     "output_type": "stream",
     "text": [
      "distance correlation: 1.0\n",
      "Pearson correlation: -1.0\n"
     ]
    }
   ],
   "source": [
    "plt.scatter(x, y1, marker='.', c='black')\n",
    "plt.show()\n",
    "print(f\"distance correlation: {dcor(data1)}\")\n",
    "print(f\"Pearson correlation: {cor(data1)}\")"
   ]
  },
  {
   "cell_type": "code",
   "execution_count": 25,
   "id": "c4621644",
   "metadata": {},
   "outputs": [
    {
     "data": {
      "image/png": "[encoded data removed]",
      "text/plain": [
       "<Figure size 640x480 with 1 Axes>"
      ]
     },
     "metadata": {},
     "output_type": "display_data"
    },
    {
     "name": "stdout",
     "output_type": "stream",
     "text": [
      "distance correlation: 0.949\n",
      "Pearson correlation: -0.954\n"
     ]
    }
   ],
   "source": [
    "plt.scatter(x, y2, marker='.', c='black')\n",
    "plt.show()\n",
    "print(f\"distance correlation: {dcor(data2)}\")\n",
    "print(f\"Pearson correlation: {cor(data2)}\")"
   ]
  },
  {
   "cell_type": "code",
   "execution_count": 26,
   "id": "95b4faa5",
   "metadata": {},
   "outputs": [
    {
     "data": {
      "image/png": "[encoded data removed]",
      "text/plain": [
       "<Figure size 640x480 with 1 Axes>"
      ]
     },
     "metadata": {},
     "output_type": "display_data"
    },
    {
     "name": "stdout",
     "output_type": "stream",
     "text": [
      "distance correlation: 0.492\n",
      "Pearson correlation: 0.0\n"
     ]
    }
   ],
   "source": [
    "plt.scatter(x, y3, marker='.', c='black')\n",
    "plt.show()\n",
    "print(f\"distance correlation: {dcor(data3)}\")\n",
    "print(f\"Pearson correlation: {cor(data3)}\")"
   ]
  },
  {
   "cell_type": "code",
   "execution_count": 27,
   "id": "a43db07f",
   "metadata": {},
   "outputs": [
    {
     "data": {
      "image/png": "[encoded data removed]",
      "text/plain": [
       "<Figure size 640x480 with 1 Axes>"
      ]
     },
     "metadata": {},
     "output_type": "display_data"
    },
    {
     "name": "stdout",
     "output_type": "stream",
     "text": [
      "distance correlation: 0.919\n",
      "Pearson correlation: 0.917\n"
     ]
    }
   ],
   "source": [
    "plt.scatter(x, y4, marker='.', c='black')\n",
    "plt.show()\n",
    "print(f\"distance correlation: {dcor(data4)}\")\n",
    "print(f\"Pearson correlation: {cor(data4)}\")"
   ]
  },
  {
   "cell_type": "code",
   "execution_count": 28,
   "id": "73f4dd53",
   "metadata": {},
   "outputs": [
    {
     "data": {
      "image/png": "[encoded data removed]",
      "text/plain": [
       "<Figure size 640x480 with 1 Axes>"
      ]
     },
     "metadata": {},
     "output_type": "display_data"
    },
    {
     "name": "stdout",
     "output_type": "stream",
     "text": [
      "distance correlation: 0.368\n",
      "Pearson correlation: -0.0\n"
     ]
    }
   ],
   "source": [
    "plt.scatter(x, y5, marker='.', c='black')\n",
    "plt.show()\n",
    "print(f\"distance correlation: {dcor(data5)}\")\n",
    "print(f\"Pearson correlation: {cor(data5)}\")"
   ]
  },
  {
   "cell_type": "code",
   "execution_count": 29,
   "id": "781fabbc",
   "metadata": {},
   "outputs": [
    {
     "data": {
      "image/png": "[encoded data removed]",
      "text/plain": [
       "<Figure size 640x480 with 1 Axes>"
      ]
     },
     "metadata": {},
     "output_type": "display_data"
    },
    {
     "name": "stdout",
     "output_type": "stream",
     "text": [
      "distance correlation: 0.197\n",
      "Pearson correlation: 0.0\n"
     ]
    }
   ],
   "source": [
    "plt.scatter(x6, y6, marker='.', c='black')\n",
    "plt.show()\n",
    "print(f\"distance correlation: {dcor(data6)}\")\n",
    "print(f\"Pearson correlation: {cor(data6)}\")"
   ]
  },
  {
   "cell_type": "code",
   "execution_count": 30,
   "id": "bff7e16d",
   "metadata": {},
   "outputs": [
    {
     "data": {
      "image/png": "[encoded data removed]",
      "text/plain": [
       "<Figure size 640x480 with 1 Axes>"
      ]
     },
     "metadata": {},
     "output_type": "display_data"
    },
    {
     "name": "stdout",
     "output_type": "stream",
     "text": [
      "distance correlation: 0.237\n",
      "Pearson correlation: -0.106\n"
     ]
    }
   ],
   "source": [
    "plt.scatter(x_ind, y_ind, marker='.', c='black')\n",
    "plt.show()\n",
    "print(f\"distance correlation: {dcor(data7)}\")\n",
    "print(f\"Pearson correlation: {cor(data7)}\")"
   ]
  },
  {
   "cell_type": "code",
   "execution_count": 31,
   "id": "ed026d76",
   "metadata": {},
   "outputs": [
    {
     "data": {
      "image/png": "[encoded data removed]",
      "text/plain": [
       "<Figure size 640x480 with 1 Axes>"
      ]
     },
     "metadata": {},
     "output_type": "display_data"
    },
    {
     "name": "stdout",
     "output_type": "stream",
     "text": [
      "distance correlation: 0.25\n",
      "Pearson correlation: 0.0\n"
     ]
    }
   ],
   "source": [
    "plt.scatter(x, y8, marker='.', c='black')\n",
    "plt.show()\n",
    "print(f\"distance correlation: {dcor(data8)}\")\n",
    "print(f\"Pearson correlation: {cor(data8)}\")"
   ]
  },
  {
   "cell_type": "code",
   "execution_count": null,
   "id": "eed80962",
   "metadata": {},
   "outputs": [],
   "source": []
  }
 ],
 "metadata": {
  "kernelspec": {
   "display_name": "Python 3 (ipykernel)",
   "language": "python",
   "name": "python3"
  },
  "language_info": {
   "codemirror_mode": {
    "name": "ipython",
    "version": 3
   },
   "file_extension": ".py",
   "mimetype": "text/x-python",
   "name": "python",
   "nbconvert_exporter": "python",
   "pygments_lexer": "ipython3",
   "version": "3.9.0"
  }
 },
 "nbformat": 4,
 "nbformat_minor": 5
}
